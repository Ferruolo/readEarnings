{
 "cells": [
  {
   "cell_type": "code",
   "execution_count": 1,
   "metadata": {},
   "outputs": [],
   "source": [
    "import pickle \n",
    "import pandas\n",
    "import tensorflow as tf\n",
    "from tensorflow import keras\n",
    "from tensorflow.keras import layers, losses, Sequential\n",
    "import numpy as np"
   ]
  },
  {
   "cell_type": "code",
   "execution_count": 2,
   "metadata": {},
   "outputs": [],
   "source": [
    "#Defined Variables (makes adjusting laters easier)\n",
    "WORD_DEPTH = 300\n"
   ]
  },
  {
   "cell_type": "code",
   "execution_count": 3,
   "metadata": {},
   "outputs": [],
   "source": [
    "with open(\"train_data.pkl\", 'rb') as f:\n",
    "    train_data = pickle.load(f)"
   ]
  },
  {
   "cell_type": "code",
   "execution_count": 4,
   "metadata": {},
   "outputs": [
    {
     "data": {
      "text/plain": [
       "dict_keys(['DATA', 'TRANSCRIPTS_W2V', 'Earnings'])"
      ]
     },
     "execution_count": 4,
     "metadata": {},
     "output_type": "execute_result"
    }
   ],
   "source": [
    "train_data.keys()"
   ]
  },
  {
   "cell_type": "code",
   "execution_count": 5,
   "metadata": {},
   "outputs": [],
   "source": [
    "data = train_data['DATA']\n",
    "transcripts = train_data['TRANSCRIPTS_W2V']\n",
    "earnings = train_data['Earnings']"
   ]
  },
  {
   "cell_type": "code",
   "execution_count": 6,
   "metadata": {},
   "outputs": [],
   "source": [
    "x = [np.concatenate(i[0], axis=0) for i in data]"
   ]
  },
  {
   "cell_type": "code",
   "execution_count": 7,
   "metadata": {},
   "outputs": [],
   "source": [
    "y = [np.array(i[1]) for i in data]"
   ]
  },
  {
   "cell_type": "code",
   "execution_count": 8,
   "metadata": {},
   "outputs": [],
   "source": [
    "max_len = max(x, key = lambda i: i.shape[0]).shape[0]"
   ]
  },
  {
   "cell_type": "code",
   "execution_count": 9,
   "metadata": {},
   "outputs": [],
   "source": [
    "#Padding\n",
    "x_pad = list()\n",
    "for i in x:\n",
    "    \n",
    "    difference = max_len - i.shape[0]\n",
    "    if difference != 0:\n",
    "        pad_matrix = np.zeros((difference, 300))\n",
    "        \n",
    "        i = np.concatenate([i, pad_matrix], axis=0)\n",
    "        x_pad.append(i)\n",
    "    else:\n",
    "        x_pad.append(i)"
   ]
  },
  {
   "cell_type": "code",
   "execution_count": 10,
   "metadata": {},
   "outputs": [],
   "source": [
    "test = x_pad.pop()\n",
    "test_y = y.pop()"
   ]
  },
  {
   "cell_type": "code",
   "execution_count": 11,
   "metadata": {},
   "outputs": [],
   "source": [
    "x = x_pad\n",
    "x = np.stack(x, axis=0)\n",
    "y = np.stack(y, axis=0)"
   ]
  },
  {
   "cell_type": "code",
   "execution_count": 12,
   "metadata": {},
   "outputs": [
    {
     "name": "stdout",
     "output_type": "stream",
     "text": [
      "(4344, 300)\n",
      "19\n"
     ]
    }
   ],
   "source": [
    "#This is really basic right now, cause this is a proof of concept\n",
    "INPUT_SHAPE = x.shape[1:]\n",
    "print(INPUT_SHAPE)\n",
    "BATCH_SIZE = x.shape[0]\n",
    "print(BATCH_SIZE)"
   ]
  },
  {
   "cell_type": "code",
   "execution_count": 13,
   "metadata": {},
   "outputs": [],
   "source": [
    "model = Sequential()"
   ]
  },
  {
   "cell_type": "code",
   "execution_count": 14,
   "metadata": {},
   "outputs": [],
   "source": [
    "model.add(layers.Conv1D(4, 100, activation='relu', input_shape = INPUT_SHAPE))"
   ]
  },
  {
   "cell_type": "code",
   "execution_count": 15,
   "metadata": {},
   "outputs": [],
   "source": [
    "model.add(layers.MaxPool1D())"
   ]
  },
  {
   "cell_type": "code",
   "execution_count": 16,
   "metadata": {},
   "outputs": [],
   "source": [
    "model.add(layers.Dropout(0.5))"
   ]
  },
  {
   "cell_type": "code",
   "execution_count": 17,
   "metadata": {},
   "outputs": [],
   "source": [
    "#Not in original model, but I need 1 d output"
   ]
  },
  {
   "cell_type": "code",
   "execution_count": 18,
   "metadata": {},
   "outputs": [],
   "source": [
    "model.add(layers.Flatten())"
   ]
  },
  {
   "cell_type": "code",
   "execution_count": 19,
   "metadata": {},
   "outputs": [],
   "source": [
    "model.add(layers.Dense(100))\n"
   ]
  },
  {
   "cell_type": "code",
   "execution_count": 20,
   "metadata": {},
   "outputs": [],
   "source": [
    "model.add(layers.Dense(1))"
   ]
  },
  {
   "cell_type": "code",
   "execution_count": 21,
   "metadata": {},
   "outputs": [
    {
     "data": {
      "text/plain": [
       "(None, 1)"
      ]
     },
     "execution_count": 21,
     "metadata": {},
     "output_type": "execute_result"
    }
   ],
   "source": [
    "model.output_shape"
   ]
  },
  {
   "cell_type": "code",
   "execution_count": 22,
   "metadata": {},
   "outputs": [],
   "source": [
    "model.build()"
   ]
  },
  {
   "cell_type": "code",
   "execution_count": 23,
   "metadata": {},
   "outputs": [],
   "source": [
    "model.compile(optimizer=keras.optimizers.Adadelta(), loss=losses.MeanSquaredError())"
   ]
  },
  {
   "cell_type": "code",
   "execution_count": null,
   "metadata": {},
   "outputs": [
    {
     "name": "stdout",
     "output_type": "stream",
     "text": [
      "Epoch 1/500\n",
      "1/1 - 0s - loss: 4.5027\n",
      "Epoch 2/500\n",
      "1/1 - 0s - loss: 3.9771\n",
      "Epoch 3/500\n",
      "1/1 - 0s - loss: 3.9537\n",
      "Epoch 4/500\n",
      "1/1 - 0s - loss: 3.7330\n",
      "Epoch 5/500\n",
      "1/1 - 0s - loss: 3.7621\n",
      "Epoch 6/500\n",
      "1/1 - 0s - loss: 3.7463\n",
      "Epoch 7/500\n",
      "1/1 - 0s - loss: 3.4513\n",
      "Epoch 8/500\n",
      "1/1 - 0s - loss: 3.5146\n",
      "Epoch 9/500\n",
      "1/1 - 0s - loss: 3.5034\n",
      "Epoch 10/500\n",
      "1/1 - 0s - loss: 3.3956\n",
      "Epoch 11/500\n",
      "1/1 - 0s - loss: 2.9320\n",
      "Epoch 12/500\n",
      "1/1 - 0s - loss: 3.1643\n",
      "Epoch 13/500\n",
      "1/1 - 0s - loss: 3.1092\n",
      "Epoch 14/500\n",
      "1/1 - 0s - loss: 2.5212\n",
      "Epoch 15/500\n",
      "1/1 - 0s - loss: 2.9890\n",
      "Epoch 16/500\n",
      "1/1 - 0s - loss: 2.7675\n",
      "Epoch 17/500\n",
      "1/1 - 0s - loss: 2.8561\n",
      "Epoch 18/500\n",
      "1/1 - 0s - loss: 2.5840\n",
      "Epoch 19/500\n",
      "1/1 - 0s - loss: 2.8148\n",
      "Epoch 20/500\n",
      "1/1 - 0s - loss: 2.5465\n",
      "Epoch 21/500\n",
      "1/1 - 0s - loss: 2.6071\n",
      "Epoch 22/500\n",
      "1/1 - 0s - loss: 2.5338\n",
      "Epoch 23/500\n",
      "1/1 - 0s - loss: 2.7331\n",
      "Epoch 24/500\n",
      "1/1 - 0s - loss: 2.2602\n",
      "Epoch 25/500\n",
      "1/1 - 0s - loss: 2.1305\n",
      "Epoch 26/500\n",
      "1/1 - 0s - loss: 2.0735\n",
      "Epoch 27/500\n",
      "1/1 - 0s - loss: 2.1445\n",
      "Epoch 28/500\n",
      "1/1 - 0s - loss: 2.3429\n",
      "Epoch 29/500\n",
      "1/1 - 0s - loss: 2.3960\n",
      "Epoch 30/500\n",
      "1/1 - 0s - loss: 1.7898\n",
      "Epoch 31/500\n",
      "1/1 - 0s - loss: 2.2925\n",
      "Epoch 32/500\n",
      "1/1 - 0s - loss: 1.7731\n",
      "Epoch 33/500\n"
     ]
    }
   ],
   "source": [
    "model.fit(x=x, y=y, batch_size = BATCH_SIZE, epochs=500, verbose=2)"
   ]
  },
  {
   "cell_type": "code",
   "execution_count": 123,
   "metadata": {},
   "outputs": [],
   "source": [
    "test = test.reshape(1, 4344, 300)"
   ]
  },
  {
   "cell_type": "code",
   "execution_count": 124,
   "metadata": {},
   "outputs": [
    {
     "data": {
      "text/plain": [
       "(1, 1)"
      ]
     },
     "execution_count": 124,
     "metadata": {},
     "output_type": "execute_result"
    }
   ],
   "source": [
    "model.predict(test).shape"
   ]
  },
  {
   "cell_type": "code",
   "execution_count": 125,
   "metadata": {},
   "outputs": [
    {
     "data": {
      "text/plain": [
       "(18, 4344, 300)"
      ]
     },
     "execution_count": 125,
     "metadata": {},
     "output_type": "execute_result"
    }
   ],
   "source": [
    "x.shape"
   ]
  },
  {
   "cell_type": "code",
   "execution_count": null,
   "metadata": {},
   "outputs": [],
   "source": []
  }
 ],
 "metadata": {
  "kernelspec": {
   "display_name": "Python 3",
   "language": "python",
   "name": "python3"
  },
  "language_info": {
   "codemirror_mode": {
    "name": "ipython",
    "version": 3
   },
   "file_extension": ".py",
   "mimetype": "text/x-python",
   "name": "python",
   "nbconvert_exporter": "python",
   "pygments_lexer": "ipython3",
   "version": "3.6.9"
  }
 },
 "nbformat": 4,
 "nbformat_minor": 2
}
